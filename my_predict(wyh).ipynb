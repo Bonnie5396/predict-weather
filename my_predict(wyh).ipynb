{
 "cells": [
  {
   "cell_type": "code",
   "execution_count": 2,
   "metadata": {},
   "outputs": [
    {
     "name": "stdout",
     "output_type": "stream",
     "text": [
      "{'code': 200, 'msg': '成功!', 'data': {'yesterday': {'date': '5日星期日', 'high': '高温 23℃', 'fx': '北风', 'low': '低温 10℃', 'fl': '<![CDATA[4-5级]]>', 'type': '晴'}, 'city': '北京', 'aqi': None, 'forecast': [{'date': '6日星期一', 'high': '高温 25℃', 'fengli': '<![CDATA[3-4级]]>', 'low': '低温 10℃', 'fengxiang': '西南风', 'type': '晴'}, {'date': '7日星期二', 'high': '高温 28℃', 'fengli': '<![CDATA[3-4级]]>', 'low': '低温 14℃', 'fengxiang': '西南风', 'type': '晴'}, {'date': '8日星期三', 'high': '高温 27℃', 'fengli': '<![CDATA[<3级]]>', 'low': '低温 12℃', 'fengxiang': '西南风', 'type': '多云'}, {'date': '9日星期四', 'high': '高温 30℃', 'fengli': '<![CDATA[<3级]]>', 'low': '低温 16℃', 'fengxiang': '西南风', 'type': '多云'}, {'date': '10日星期五', 'high': '高温 29℃', 'fengli': '<![CDATA[3-4级]]>', 'low': '低温 15℃', 'fengxiang': '南风', 'type': '多云'}], 'ganmao': '各项气象条件适宜，无明显降温过程，发生感冒机率较低。', 'wendu': '20'}}\n"
     ]
    }
   ],
   "source": [
    "import requests,json \n",
    "# 功能：调用开放接口，返回相应json数据\n",
    "def invocateI(iUrl,iparams):\n",
    "    packIParams = json.dumps(iparams) # 把dict转为json\n",
    "    rps = requests.post(iUrl, packIParams)\n",
    "    # print(rps.text)\n",
    "    # rpsJson = rps.json()\n",
    "    # print(type(rpsJson))\n",
    "    # print(rpsJson['data']['forecast'])\n",
    "    return rps.json()\n",
    " \n",
    "# 调用示例\n",
    "iUrl = 'https://www.apiopen.top/weatherApi'\n",
    "iparams = {'city': '北京','data':'yeaterday'}\n",
    "res = invocateI(iUrl,iparams)\n",
    "print(res)\n",
    " \n"
   ]
  },
  {
   "cell_type": "code",
   "execution_count": null,
   "metadata": {},
   "outputs": [],
   "source": []
  }
 ],
 "metadata": {
  "kernelspec": {
   "display_name": "Python 3",
   "language": "python",
   "name": "python3"
  },
  "language_info": {
   "codemirror_mode": {
    "name": "ipython",
    "version": 3
   },
   "file_extension": ".py",
   "mimetype": "text/x-python",
   "name": "python",
   "nbconvert_exporter": "python",
   "pygments_lexer": "ipython3",
   "version": "3.6.4"
  }
 },
 "nbformat": 4,
 "nbformat_minor": 2
}
